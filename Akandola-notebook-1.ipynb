{
 "cells": [
  {
   "cell_type": "code",
   "execution_count": 2,
   "metadata": {},
   "outputs": [
    {
     "name": "stdout",
     "output_type": "stream",
     "text": [
      "First grade : 87\n",
      "Count of grades: 3\n",
      "Mean of grades: 93.66666666666667\n",
      "Minimum grades: 87\n",
      "Maximum of grades: 100\n",
      "Standard Deviation of grades: 6.51\n",
      "nFull description of grades:\n",
      "count      3.000000\n",
      "mean      93.666667\n",
      "std        6.506407\n",
      "min       87.000000\n",
      "25%       90.500000\n",
      "50%       94.000000\n",
      "75%       97.000000\n",
      "max      100.000000\n",
      "dtype: float64\n"
     ]
    }
   ],
   "source": [
    "import pandas as pd\n",
    "\n",
    "grades= pd.Series([87,100,94])\n",
    "\n",
    "first_grade= grades[0]\n",
    "\n",
    "count_of_grades= grades.count()\n",
    "\n",
    "mean_of_grades=grades.mean()\n",
    "\n",
    "min_of_grades=grades.min()\n",
    "\n",
    "max_of_grades= grades.max()\n",
    "\n",
    "std_of_grades= grades.std()\n",
    "\n",
    "describe_grades= grades.describe()\n",
    "\n",
    "print(f\"First grade : {first_grade}\")\n",
    "print(f\"Count of grades: {count_of_grades}\")\n",
    "print(f\"Mean of grades: {mean_of_grades}\")\n",
    "print(f\"Minimum grades: {min_of_grades}\")\n",
    "print(f\"Maximum of grades: {max_of_grades}\")\n",
    "print(f\"Standard Deviation of grades: {std_of_grades :.2f}\")\n",
    "print(\"nFull description of grades:\")\n",
    "print(describe_grades)\n",
    "\n"
   ]
  },
  {
   "cell_type": "code",
   "execution_count": 18,
   "metadata": {},
   "outputs": [
    {
     "name": "stdout",
     "output_type": "stream",
     "text": [
      "         Eva  Wally  Arsh\n",
      "English   56     45   100\n",
      "Math      78     34   100\n",
      "Science   89     90   100\n",
      "history   90     78   100\n",
      "spanish   36     89   100\n",
      "English    56\n",
      "Math       78\n",
      "Science    89\n",
      "history    90\n",
      "spanish    36\n",
      "Name: Eva, dtype: int64\n"
     ]
    },
    {
     "data": {
      "text/plain": [
       "array([[ 56,  45, 100],\n",
       "       [ 78,  34, 100],\n",
       "       [ 89,  90, 100],\n",
       "       [ 90,  78, 100],\n",
       "       [ 36,  89, 100]])"
      ]
     },
     "execution_count": 18,
     "metadata": {},
     "output_type": "execute_result"
    }
   ],
   "source": [
    "import numpy as np\n",
    "import pandas as pd\n",
    "\n",
    "grades_dict= {\"Eva\": [56,78,89,90,36],\n",
    "              \"Wally\": [45,34,90,78,89],\n",
    "              \"Arsh\": [100,100,100,100,100]}\n",
    "\n",
    "grades=pd.DataFrame(grades_dict)\n",
    "grades.index= [\"English\",\"Math\",\"Science\",\"history\",\"spanish\"]\n",
    "print(grades)\n",
    "\n",
    "grades['Eva']\n",
    "print(grades['Eva'])\n",
    "\n",
    "grades.Wally\n",
    "\n",
    "grades.values\n",
    "\n",
    "\n",
    "\n"
   ]
  },
  {
   "cell_type": "code",
   "execution_count": null,
   "metadata": {},
   "outputs": [],
   "source": []
  }
 ],
 "metadata": {
  "kernelspec": {
   "display_name": "Python (.venv)",
   "language": "python",
   "name": ".venv"
  },
  "language_info": {
   "codemirror_mode": {
    "name": "ipython",
    "version": 3
   },
   "file_extension": ".py",
   "mimetype": "text/x-python",
   "name": "python",
   "nbconvert_exporter": "python",
   "pygments_lexer": "ipython3",
   "version": "3.9.12"
  },
  "orig_nbformat": 4
 },
 "nbformat": 4,
 "nbformat_minor": 2
}
