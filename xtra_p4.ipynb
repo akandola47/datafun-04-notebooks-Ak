{
 "cells": [
  {
   "cell_type": "code",
   "execution_count": 12,
   "metadata": {},
   "outputs": [
    {
     "data": {
      "text/html": [
       "<div>\n",
       "<style scoped>\n",
       "    .dataframe tbody tr th:only-of-type {\n",
       "        vertical-align: middle;\n",
       "    }\n",
       "\n",
       "    .dataframe tbody tr th {\n",
       "        vertical-align: top;\n",
       "    }\n",
       "\n",
       "    .dataframe thead th {\n",
       "        text-align: right;\n",
       "    }\n",
       "</style>\n",
       "<table border=\"1\" class=\"dataframe\">\n",
       "  <thead>\n",
       "    <tr style=\"text-align: right;\">\n",
       "      <th></th>\n",
       "      <th>name</th>\n",
       "      <th>email</th>\n",
       "      <th>Phone</th>\n",
       "    </tr>\n",
       "  </thead>\n",
       "  <tbody>\n",
       "    <tr>\n",
       "      <th>0</th>\n",
       "      <td>kobe bryant</td>\n",
       "      <td>kobebryant@hotmail.com</td>\n",
       "      <td>1234567890</td>\n",
       "    </tr>\n",
       "    <tr>\n",
       "      <th>1</th>\n",
       "      <td>Lebron James</td>\n",
       "      <td>lbj@gmail.com</td>\n",
       "      <td>0987654321</td>\n",
       "    </tr>\n",
       "    <tr>\n",
       "      <th>2</th>\n",
       "      <td>mike jordan</td>\n",
       "      <td>airjordan@yahoo.com</td>\n",
       "      <td>1234567891</td>\n",
       "    </tr>\n",
       "  </tbody>\n",
       "</table>\n",
       "</div>"
      ],
      "text/plain": [
       "           name                   email        Phone\n",
       "0   kobe bryant  kobebryant@hotmail.com   1234567890\n",
       "1  Lebron James           lbj@gmail.com   0987654321\n",
       "2   mike jordan     airjordan@yahoo.com   1234567891"
      ]
     },
     "execution_count": 12,
     "metadata": {},
     "output_type": "execute_result"
    }
   ],
   "source": [
    "import pandas as pd \n",
    "\n",
    "contacts = [['kobe bryant', 'kobebryant@hotmail.com', '1234567890'],['Lebron James' , 'lbj@gmail.com', ' 0987654321'],['mike jordan', ' airjordan@yahoo.com', '1234567891'] ]\n",
    "\n",
    "contacts_df=pd.DataFrame(contacts,columns = ['name','email','Phone'])\n",
    "\n",
    "contacts_df"
   ]
  },
  {
   "cell_type": "code",
   "execution_count": 13,
   "metadata": {},
   "outputs": [
    {
     "data": {
      "text/plain": [
       "0     1234567890\n",
       "1     0987654321\n",
       "2     1234567891\n",
       "Name: Phone, dtype: object"
      ]
     },
     "execution_count": 13,
     "metadata": {},
     "output_type": "execute_result"
    }
   ],
   "source": [
    "import re\n",
    "\n",
    "def get_formatted_phone(value):\n",
    "    result = re.fullmatch(r'(/d{3})(/d{3})(/d{4})',value)\n",
    "    return '-' . join(result.groups()) if result else value\n",
    "\n",
    "formatted_phone = contacts_df['Phone'].map(get_formatted_phone)\n",
    "\n",
    "formatted_phone"
   ]
  },
  {
   "cell_type": "code",
   "execution_count": 14,
   "metadata": {},
   "outputs": [
    {
     "data": {
      "text/html": [
       "<div>\n",
       "<style scoped>\n",
       "    .dataframe tbody tr th:only-of-type {\n",
       "        vertical-align: middle;\n",
       "    }\n",
       "\n",
       "    .dataframe tbody tr th {\n",
       "        vertical-align: top;\n",
       "    }\n",
       "\n",
       "    .dataframe thead th {\n",
       "        text-align: right;\n",
       "    }\n",
       "</style>\n",
       "<table border=\"1\" class=\"dataframe\">\n",
       "  <thead>\n",
       "    <tr style=\"text-align: right;\">\n",
       "      <th></th>\n",
       "      <th>name</th>\n",
       "      <th>email</th>\n",
       "      <th>Phone</th>\n",
       "    </tr>\n",
       "  </thead>\n",
       "  <tbody>\n",
       "    <tr>\n",
       "      <th>0</th>\n",
       "      <td>kobe bryant</td>\n",
       "      <td>kobebryant@hotmail.com</td>\n",
       "      <td>1234567890</td>\n",
       "    </tr>\n",
       "    <tr>\n",
       "      <th>1</th>\n",
       "      <td>Lebron James</td>\n",
       "      <td>lbj@gmail.com</td>\n",
       "      <td>0987654321</td>\n",
       "    </tr>\n",
       "    <tr>\n",
       "      <th>2</th>\n",
       "      <td>mike jordan</td>\n",
       "      <td>airjordan@yahoo.com</td>\n",
       "      <td>1234567891</td>\n",
       "    </tr>\n",
       "  </tbody>\n",
       "</table>\n",
       "</div>"
      ],
      "text/plain": [
       "           name                   email        Phone\n",
       "0   kobe bryant  kobebryant@hotmail.com   1234567890\n",
       "1  Lebron James           lbj@gmail.com   0987654321\n",
       "2   mike jordan     airjordan@yahoo.com   1234567891"
      ]
     },
     "execution_count": 14,
     "metadata": {},
     "output_type": "execute_result"
    }
   ],
   "source": [
    "contacts_df['Phone']=formatted_phone\n",
    "\n",
    "contacts_df"
   ]
  },
  {
   "cell_type": "code",
   "execution_count": null,
   "metadata": {},
   "outputs": [],
   "source": []
  }
 ],
 "metadata": {
  "kernelspec": {
   "display_name": "Python (.venv)",
   "language": "python",
   "name": ".venv"
  },
  "language_info": {
   "codemirror_mode": {
    "name": "ipython",
    "version": 3
   },
   "file_extension": ".py",
   "mimetype": "text/x-python",
   "name": "python",
   "nbconvert_exporter": "python",
   "pygments_lexer": "ipython3",
   "version": "3.9.12"
  },
  "orig_nbformat": 4
 },
 "nbformat": 4,
 "nbformat_minor": 2
}
