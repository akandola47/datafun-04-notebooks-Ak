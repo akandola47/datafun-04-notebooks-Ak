{
 "cells": [
  {
   "cell_type": "markdown",
   "metadata": {},
   "source": [
    "Arshpreet Kandola\n"
   ]
  },
  {
   "cell_type": "code",
   "execution_count": 1,
   "metadata": {},
   "outputs": [
    {
     "ename": "ModuleNotFoundError",
     "evalue": "No module named 'pandas'",
     "output_type": "error",
     "traceback": [
      "\u001b[0;31m---------------------------------------------------------------------------\u001b[0m",
      "\u001b[0;31mModuleNotFoundError\u001b[0m                       Traceback (most recent call last)",
      "\u001b[1;32m/Users/muffinman/Desktop/introtopython/datafun-04-notebooks-Ak/ArshpreetKandola-1.ipynb Cell 2\u001b[0m line \u001b[0;36m1\n\u001b[0;32m----> <a href='vscode-notebook-cell:/Users/muffinman/Desktop/introtopython/datafun-04-notebooks-Ak/ArshpreetKandola-1.ipynb#W3sZmlsZQ%3D%3D?line=0'>1</a>\u001b[0m \u001b[39mimport\u001b[39;00m \u001b[39mpandas\u001b[39;00m \u001b[39mas\u001b[39;00m \u001b[39mpd\u001b[39;00m\n",
      "\u001b[0;31mModuleNotFoundError\u001b[0m: No module named 'pandas'"
     ]
    }
   ],
   "source": [
    "import pandas as pd\n",
    "\n",
    "grades= pd.Series([87,100,94])\n",
    "\n",
    "first_grade= grades[0]\n",
    "\n",
    "count_of_grades= grades.count()\n",
    "\n",
    "mean_of_grades=grades.mean()\n",
    "\n",
    "min_of_grades=grades.min()\n",
    "\n",
    "max_of_grades= grades.max()\n",
    "\n",
    "std_of_grades= grades.std()\n",
    "\n",
    "describe_grades= grades.describe()\n",
    "\n",
    "print(f\"First grade : {first_grade}\")\n",
    "print(f\"Count of grades: {count_of_grades}\")\n",
    "print(f\"Mean of grades: {mean_of_grades}\")\n",
    "print(f\"Minimum grades: {min_of_grades}\")\n",
    "print(f\"Maximum of grades: {max_of_grades}\")\n",
    "print(f\"Standard Deviation of grades: {std_of_grades :.2f}\")\n",
    "print(\"nFull description of grades:\")\n",
    "print(describe_grades)\n",
    "\n"
   ]
  },
  {
   "cell_type": "code",
   "execution_count": 2,
   "metadata": {},
   "outputs": [
    {
     "ename": "ModuleNotFoundError",
     "evalue": "No module named 'pandas'",
     "output_type": "error",
     "traceback": [
      "\u001b[0;31m---------------------------------------------------------------------------\u001b[0m",
      "\u001b[0;31mModuleNotFoundError\u001b[0m                       Traceback (most recent call last)",
      "\u001b[1;32m/Users/muffinman/Desktop/introtopython/datafun-04-notebooks-Ak/ArshpreetKandola-1.ipynb Cell 3\u001b[0m line \u001b[0;36m1\n\u001b[0;32m----> <a href='vscode-notebook-cell:/Users/muffinman/Desktop/introtopython/datafun-04-notebooks-Ak/ArshpreetKandola-1.ipynb#W4sZmlsZQ%3D%3D?line=0'>1</a>\u001b[0m \u001b[39mimport\u001b[39;00m \u001b[39mpandas\u001b[39;00m \u001b[39mas\u001b[39;00m \u001b[39mpd\u001b[39;00m\n\u001b[1;32m      <a href='vscode-notebook-cell:/Users/muffinman/Desktop/introtopython/datafun-04-notebooks-Ak/ArshpreetKandola-1.ipynb#W4sZmlsZQ%3D%3D?line=2'>3</a>\u001b[0m grades_dict\u001b[39m=\u001b[39m {\u001b[39m\"\u001b[39m\u001b[39mEva\u001b[39m\u001b[39m\"\u001b[39m: [\u001b[39m56\u001b[39m,\u001b[39m78\u001b[39m,\u001b[39m89\u001b[39m,\u001b[39m90\u001b[39m,\u001b[39m36\u001b[39m],\n\u001b[1;32m      <a href='vscode-notebook-cell:/Users/muffinman/Desktop/introtopython/datafun-04-notebooks-Ak/ArshpreetKandola-1.ipynb#W4sZmlsZQ%3D%3D?line=3'>4</a>\u001b[0m               \u001b[39m\"\u001b[39m\u001b[39mWally\u001b[39m\u001b[39m\"\u001b[39m: [\u001b[39m45\u001b[39m,\u001b[39m34\u001b[39m,\u001b[39m90\u001b[39m,\u001b[39m78\u001b[39m,\u001b[39m89\u001b[39m],\n\u001b[1;32m      <a href='vscode-notebook-cell:/Users/muffinman/Desktop/introtopython/datafun-04-notebooks-Ak/ArshpreetKandola-1.ipynb#W4sZmlsZQ%3D%3D?line=4'>5</a>\u001b[0m               \u001b[39m\"\u001b[39m\u001b[39mArsh\u001b[39m\u001b[39m\"\u001b[39m: [\u001b[39m100\u001b[39m,\u001b[39m100\u001b[39m,\u001b[39m100\u001b[39m,\u001b[39m100\u001b[39m,\u001b[39m100\u001b[39m]}\n\u001b[1;32m      <a href='vscode-notebook-cell:/Users/muffinman/Desktop/introtopython/datafun-04-notebooks-Ak/ArshpreetKandola-1.ipynb#W4sZmlsZQ%3D%3D?line=5'>6</a>\u001b[0m grades\u001b[39m.\u001b[39mpd\u001b[39m.\u001b[39mDataFrame(grades_dict)\n",
      "\u001b[0;31mModuleNotFoundError\u001b[0m: No module named 'pandas'"
     ]
    }
   ],
   "source": [
    "import numpy as np\n",
    "import pandas as pd\n",
    "\n",
    "grades_dict= {\"Eva\": [56,78,89,90,36],\n",
    "              \"Wally\": [45,34,90,78,89],\n",
    "              \"Arsh\": [100,100,100,100,100]}\n",
    "grades.pd.DataFrame(grades_dict)\n",
    "grades.index\n",
    "print(grades)\n",
    "\n",
    "grades_from_dict= pd.Series([87,100,94])\n",
    "\n",
    "eva_grade=grades_from_dict['Eva']\n",
    "walley_grade=grades_from_dict.Walley\n",
    "data_values=grades_from_dict.values\n",
    "\n"
   ]
  }
 ],
 "metadata": {
  "kernelspec": {
   "display_name": "Python 3",
   "language": "python",
   "name": "python3"
  },
  "language_info": {
   "codemirror_mode": {
    "name": "ipython",
    "version": 3
   },
   "file_extension": ".py",
   "mimetype": "text/x-python",
   "name": "python",
   "nbconvert_exporter": "python",
   "pygments_lexer": "ipython3",
   "version": "3.11.5"
  },
  "orig_nbformat": 4
 },
 "nbformat": 4,
 "nbformat_minor": 2
}
